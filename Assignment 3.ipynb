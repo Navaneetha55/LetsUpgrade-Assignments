{
 "cells": [
  {
   "cell_type": "code",
   "execution_count": 4,
   "metadata": {},
   "outputs": [
    {
     "name": "stdout",
     "output_type": "stream",
     "text": [
      "Question 1\n",
      "[ 2  5  8 11 14 17 20 23 26 29 32 35 38 41 44 47]\n",
      "\n",
      "---------------------------\n",
      "\n"
     ]
    }
   ],
   "source": [
    "print(\"Question 1\")\n",
    "import numpy as np\n",
    "\n",
    "array = np.arange(2,50,3)\n",
    "\n",
    "print(array)\n",
    "\n",
    "print('\\n---------------------------\\n')"
   ]
  },
  {
   "cell_type": "code",
   "execution_count": 15,
   "metadata": {},
   "outputs": [
    {
     "name": "stdout",
     "output_type": "stream",
     "text": [
      "Question 2\n",
      "Enter 5 elements for list 1\n",
      "10\n",
      "20\n",
      "30\n",
      "40\n",
      "50\n",
      "Enter 5 elements for list 2\n",
      "60\n",
      "70\n",
      "80\n",
      "90\n",
      "100\n",
      "[ 10  20  30  40  50  60  70  80  90 100]\n",
      "\n",
      "\n",
      "[ 10  20  30  40  50  60  70  80  90 100]\n",
      "\n",
      "---------------------------\n",
      "\n"
     ]
    }
   ],
   "source": [
    "print(\"Question 2\")\n",
    "import numpy as np\n",
    "lst_1 = []\n",
    "lst_2 = []\n",
    "print(\"Enter 5 elements for list 1\")\n",
    "for i in range(5):\n",
    "    inp = int(input())\n",
    "    lst_1.append(inp)\n",
    "print(\"Enter 5 elements for list 2\")\n",
    "for i in range(5):\n",
    "    inp = int(input())\n",
    "    lst_2.append(inp)\n",
    "arr_1 = np.array(lst_1)\n",
    "arr_2 = np.array(lst_2)\n",
    "concat_arr = np.concatenate((arr_1,arr_2))\n",
    "print(concat_arr)\n",
    "print(\"\\n\")\n",
    "print(np.sort(concat_arr))\n",
    "print('\\n---------------------------\\n')"
   ]
  },
  {
   "cell_type": "code",
   "execution_count": 10,
   "metadata": {},
   "outputs": [
    {
     "name": "stdout",
     "output_type": "stream",
     "text": [
      "Question 3\n",
      "Dimension of an array: 2\n",
      "Size of an array: 9\n",
      "\n",
      "---------------------------\n",
      "\n"
     ]
    }
   ],
   "source": [
    "print(\"Question 3\")\n",
    "import numpy as np\n",
    "\n",
    "arr = np.array([[10,20,30],[40,50,60],[70,80,90]])\n",
    "print(\"Dimension of an array:\",arr.ndim)\n",
    "print(\"Size of an array:\",arr.size)\n",
    "\n",
    "print('\\n---------------------------\\n')\n"
   ]
  },
  {
   "cell_type": "code",
   "execution_count": 12,
   "metadata": {},
   "outputs": [
    {
     "name": "stdout",
     "output_type": "stream",
     "text": [
      "Question 4\n",
      "31\n",
      "Test 1D array (shape) : (31,)\n",
      "2D array for row is : (1, 31)\n",
      "2D array for column is : (31, 1)\n",
      "\n",
      "---------------------------\n",
      "\n"
     ]
    }
   ],
   "source": [
    "print(\"Question 4\")\n",
    "import numpy as dp\n",
    "\n",
    "arr = dp.arange(int(input()))\n",
    "print(\"Test 1D array (shape) :\", arr.shape)\n",
    "\n",
    "D2_arr_row = arr[dp.newaxis]\n",
    "print(\"2D array for row is :\", D2_arr_row.shape)\n",
    "\n",
    "D2_arr_column = arr[:, dp.newaxis]\n",
    "print(\"2D array for column is :\", D2_arr_column.shape)\n",
    "print('\\n---------------------------\\n')\n"
   ]
  },
  {
   "cell_type": "code",
   "execution_count": 13,
   "metadata": {},
   "outputs": [
    {
     "name": "stdout",
     "output_type": "stream",
     "text": [
      "Question 5\n",
      " horizontally stacked : \n",
      " [  1   9  25  49  81   4  16  36  64 100]\n",
      "\n",
      "\n",
      "vertically stacked : \n",
      " [[  1   9  25  49  81]\n",
      " [  4  16  36  64 100]]\n",
      "\n",
      "---------------------------\n",
      "\n"
     ]
    }
   ],
   "source": [
    "print(\"Question 5\")\n",
    "import numpy as np\n",
    "\n",
    "arr_1 = np.square([1,3,5,7,9]) \n",
    "arr_2 = np.square([2,4,6,8,10])\n",
    "\n",
    "\n",
    "print(\" horizontally stacked : \\n\", np.hstack((arr_1, arr_2)))\n",
    "print(\"\\n\")\n",
    "\n",
    "print(\"vertically stacked : \\n\", np.vstack((arr_1, arr_2)))\n",
    "print('\\n---------------------------\\n')\n"
   ]
  },
  {
   "cell_type": "code",
   "execution_count": 14,
   "metadata": {},
   "outputs": [
    {
     "name": "stdout",
     "output_type": "stream",
     "text": [
      "Question 6\n",
      "[[4 2]\n",
      " [5 3]\n",
      " [6 1]\n",
      " [7 1]\n",
      " [8 1]\n",
      " [9 1]]\n",
      "\n",
      "---------------------------\n",
      "\n"
     ]
    }
   ],
   "source": [
    "print(\"Question 6\")\n",
    "import numpy as np\n",
    "\n",
    "arr = np.array([5, 7, 8, 9, 5, 6, 5, 4, 4])\n",
    "\n",
    "unique, counts = np.unique(arr, return_counts=True)\n",
    "arr = np.asarray((unique, counts)).T\n",
    "print(arr)\n",
    "print('\\n---------------------------\\n')"
   ]
  },
  {
   "cell_type": "code",
   "execution_count": null,
   "metadata": {},
   "outputs": [],
   "source": []
  }
 ],
 "metadata": {
  "kernelspec": {
   "display_name": "Python 3",
   "language": "python",
   "name": "python3"
  },
  "language_info": {
   "codemirror_mode": {
    "name": "ipython",
    "version": 3
   },
   "file_extension": ".py",
   "mimetype": "text/x-python",
   "name": "python",
   "nbconvert_exporter": "python",
   "pygments_lexer": "ipython3",
   "version": "3.8.3"
  }
 },
 "nbformat": 4,
 "nbformat_minor": 4
}
